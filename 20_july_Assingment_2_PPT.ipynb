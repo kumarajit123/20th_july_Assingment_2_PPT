{
 "cells": [
  {
   "cell_type": "code",
   "execution_count": null,
   "id": "351be8f2",
   "metadata": {},
   "outputs": [],
   "source": [
    "1. Write an SQL query to retrieve the names and email addresses of all employees from a table named \"Employees\".\n",
    "\n",
    "SELECT Name, Email\n",
    "FROM Employees;\n"
   ]
  },
  {
   "cell_type": "code",
   "execution_count": null,
   "id": "b1f1e9b7",
   "metadata": {},
   "outputs": [],
   "source": [
    "2. Write an SQL query to filter records from a table named \"Customers\" where the \"City\" column is 'New York'.\n",
    "\n",
    "SELECT *\n",
    "FROM Customers\n",
    "WHERE City = 'New York';\n"
   ]
  },
  {
   "cell_type": "code",
   "execution_count": null,
   "id": "17d1d217",
   "metadata": {},
   "outputs": [],
   "source": [
    "3. Write an SQL query to sort records in descending order based on the \"DateOfBirth\" column in a table named \"Users\".\n",
    "\n",
    "SELECT *\n",
    "FROM Users\n",
    "ORDER BY DateOfBirth DESC;\n"
   ]
  },
  {
   "cell_type": "code",
   "execution_count": null,
   "id": "c2162523",
   "metadata": {},
   "outputs": [],
   "source": [
    "4. Write an SQL query to sort records in ascending order based on the \"RegistrationDate\" column in a table named \"Users\".\n",
    "\n",
    "SELECT *\n",
    "FROM Users\n",
    "ORDER BY RegistrationDate ASC;\n"
   ]
  },
  {
   "cell_type": "code",
   "execution_count": null,
   "id": "4c6165e6",
   "metadata": {},
   "outputs": [],
   "source": [
    "5. Write an SQL query to find the employee with the highest salary from a table named \"Employees\" and display their name, \n",
    "position, and salary.\n",
    "\n",
    "SELECT Name, Position, Salary\n",
    "FROM Employees\n",
    "ORDER BY Salary DESC\n",
    "LIMIT 1;\n"
   ]
  },
  {
   "cell_type": "code",
   "execution_count": null,
   "id": "63474d3b",
   "metadata": {},
   "outputs": [],
   "source": [
    "6. Write an SQL query to retrieve records from a table named \"Customers\" where the \"Phone\" column matches the pattern\n",
    "'+1-XXX-XXX-XXXX'.\n",
    "\n",
    "SELECT *\n",
    "FROM Customers\n",
    "WHERE Phone LIKE '+1-___-___-____';\n"
   ]
  },
  {
   "cell_type": "code",
   "execution_count": null,
   "id": "fbd4b04b",
   "metadata": {},
   "outputs": [],
   "source": [
    "7. Write an SQL query to retrieve the top 5 customers with the highest total purchase amount from a table named \"Orders\" \n",
    "and display their names and total purchase amounts.\n",
    "\n",
    "SELECT CustomerName, SUM(TotalAmount) AS TotalPurchaseAmount\n",
    "FROM Orders\n",
    "GROUP BY CustomerName\n",
    "ORDER BY TotalPurchaseAmount DESC\n",
    "LIMIT 5;\n"
   ]
  },
  {
   "cell_type": "code",
   "execution_count": null,
   "id": "0465b570",
   "metadata": {},
   "outputs": [],
   "source": [
    "8. Write an SQL query to calculate the percentage of sales for each product category in a table named \"Sales\" and display\n",
    "the category name, total sales amount, and the percentage of total sales.\n",
    "\n",
    "SELECT Category, SUM(SalesAmount) AS TotalSalesAmount,\n",
    "       SUM(SalesAmount) / (SELECT SUM(SalesAmount) FROM Sales) * 100 AS SalesPercentage\n",
    "FROM Sales\n",
    "GROUP BY Category;\n",
    "\n"
   ]
  },
  {
   "cell_type": "code",
   "execution_count": null,
   "id": "1cca64ee",
   "metadata": {},
   "outputs": [],
   "source": [
    "9. Write an SQL query to find the customers who have made the highest total purchases across all years from a table named\n",
    "\"Orders\" and display their names, email addresses, and the total purchase amount.\n",
    "\n",
    "SELECT CustomerName, Email, SUM(TotalAmount) AS TotalPurchaseAmount\n",
    "FROM Orders\n",
    "GROUP BY CustomerName, Email\n",
    "ORDER BY TotalPurchaseAmount DESC\n",
    "LIMIT 1;\n"
   ]
  }
 ],
 "metadata": {
  "kernelspec": {
   "display_name": "Python 3 (ipykernel)",
   "language": "python",
   "name": "python3"
  },
  "language_info": {
   "codemirror_mode": {
    "name": "ipython",
    "version": 3
   },
   "file_extension": ".py",
   "mimetype": "text/x-python",
   "name": "python",
   "nbconvert_exporter": "python",
   "pygments_lexer": "ipython3",
   "version": "3.11.3"
  }
 },
 "nbformat": 4,
 "nbformat_minor": 5
}
